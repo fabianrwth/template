{
 "cells": [
  {
   "cell_type": "markdown",
   "id": "4f43d527",
   "metadata": {},
   "source": [
    "## Task Definition"
   ]
  },
  {
   "cell_type": "markdown",
   "id": "46832d4b",
   "metadata": {},
   "source": [
    "## Imports"
   ]
  },
  {
   "cell_type": "code",
   "execution_count": null,
   "id": "ca06039a",
   "metadata": {},
   "outputs": [],
   "source": [
    "import os\n",
    "\n",
    "# Data manipulation and analysis\n",
    "import numpy as np\n",
    "import pandas as pd\n",
    "\n",
    "# Visualization\n",
    "import matplotlib.pyplot as plt\n",
    "import seaborn as sns\n",
    "\n",
    "# Data preprocessing\n",
    "from sklearn.utils import resample\n",
    "from sklearn.model_selection import train_test_split, cross_val_score, cross_val_predict\n",
    "from sklearn.preprocessing import StandardScaler\n",
    "from sklearn.metrics import accuracy_score, confusion_matrix, classification_report\n",
    "from sklearn.metrics import mean_absolute_error, mean_squared_error, r2_score, make_scorer\n",
    "\n",
    "# Models\n",
    "from sklearn.linear_model import LinearRegression\n",
    "from sklearn.tree import DecisionTreeRegressor\n",
    "from sklearn.ensemble import RandomForestClassifier, RandomForestRegressor, GradientBoostingRegressor\n",
    "\n",
    "import xgboost as xgb\n",
    "import lightgbm as lgb\n",
    "\n",
    "# Sagemaker\n",
    "import boto3\n",
    "import joblib\n",
    "from sagemaker.sklearn.estimator import SKLearn\n",
    "import sagemaker\n",
    "# Data profiling\n",
    "from ydata_profiling import ProfileReport\n",
    "\n",
    "# Suppress warnings\n",
    "import warnings\n",
    "warnings.filterwarnings('ignore')\n",
    "\n",
    "# Ensure plots are displayed inline in Jupyter Notebook\n",
    "%matplotlib inline\n",
    "\n",
    "# Set a consistent visual style\n",
    "sns.set(style=\"whitegrid\")"
   ]
  },
  {
   "cell_type": "markdown",
   "id": "dcd04872",
   "metadata": {},
   "source": [
    "## Data Collection and Loading\n",
    "\n"
   ]
  },
  {
   "cell_type": "code",
   "execution_count": null,
   "id": "2071fb82",
   "metadata": {},
   "outputs": [],
   "source": [
    "# Load the dataset\n",
    "df = pd.read_csv('your_dataset.csv')\n",
    "\n",
    "# Check shapes of the dataframes\n",
    "print(f'Shape of df: {df.shape}')"
   ]
  },
  {
   "cell_type": "markdown",
   "id": "44bd6718",
   "metadata": {},
   "source": [
    "## EDA"
   ]
  },
  {
   "cell_type": "code",
   "execution_count": null,
   "id": "9e2890e2",
   "metadata": {},
   "outputs": [],
   "source": [
    "# Exploring both datasets with ydata_profiling library\n",
    "profile_df = ProfileReport(df)\n",
    "\n",
    "# Create directory for reports\n",
    "if not os.path.exists('./reports'):\n",
    "    os.makedirs('./reports')\n",
    "\n",
    "# Save as html file\n",
    "profile_df.to_file('./reports/df_report.html')"
   ]
  },
  {
   "cell_type": "markdown",
   "id": "942195df",
   "metadata": {},
   "source": [
    "## Data Cleaning"
   ]
  },
  {
   "cell_type": "markdown",
   "id": "d541fc04",
   "metadata": {},
   "source": [
    "##### Missing Values"
   ]
  },
  {
   "cell_type": "markdown",
   "id": "64821341",
   "metadata": {},
   "source": [
    "##### Outlier Detection and Treatment"
   ]
  },
  {
   "cell_type": "markdown",
   "id": "2c015356",
   "metadata": {},
   "source": [
    "##### Data Type Corrections"
   ]
  },
  {
   "cell_type": "markdown",
   "id": "002ba8f2",
   "metadata": {},
   "source": [
    "## Data Preperation\n"
   ]
  },
  {
   "cell_type": "markdown",
   "id": "c84b39c1",
   "metadata": {},
   "source": [
    "##### Train-Validation-Test Split"
   ]
  },
  {
   "cell_type": "markdown",
   "id": "4b52c1d2",
   "metadata": {},
   "source": [
    "##### Encoding categorical variables"
   ]
  },
  {
   "cell_type": "markdown",
   "id": "682a4772",
   "metadata": {},
   "source": [
    "##### Feature Engineering"
   ]
  },
  {
   "cell_type": "markdown",
   "id": "967e5cec",
   "metadata": {},
   "source": [
    "##### Scaling"
   ]
  },
  {
   "cell_type": "markdown",
   "id": "96252913",
   "metadata": {},
   "source": [
    "##### Feature Selection"
   ]
  },
  {
   "cell_type": "markdown",
   "id": "1ec27157",
   "metadata": {},
   "source": [
    "## Initial Model Comparison"
   ]
  },
  {
   "cell_type": "markdown",
   "id": "a8c60090",
   "metadata": {},
   "source": [
    "##### Model Selection"
   ]
  },
  {
   "cell_type": "code",
   "execution_count": null,
   "id": "f148f8f3",
   "metadata": {},
   "outputs": [],
   "source": [
    "# Basic model selection for Regression and Classification\n",
    "\n",
    "# Regressions\n",
    "models = {\n",
    "    'Linear Regression': LinearRegression(),\n",
    "    'Decision Tree': DecisionTreeRegressor(),\n",
    "    'Random Forest': RandomForestRegressor(),\n",
    "    'Gradient Boosting': GradientBoostingRegressor(),\n",
    "    'XGBoost': xgb.XGBRegressor(),\n",
    "    'LightGBM': lgb.LGBMRegressor()\n",
    "}\n",
    "\n",
    "# Classification\n",
    "models = {\n",
    "    'Logistic Regression': LogisticRegression(),\n",
    "    'Decision Tree': DecisionTreeClassifier(),\n",
    "    'Random Forest': RandomForestClassifier(),\n",
    "    'Gradient Boosting': GradientBoostingClassifier(),\n",
    "    'XGBoost': xgb.XGBClassifier(),\n",
    "    'LightGBM': lgb.LGBMClassifier()\n",
    "}"
   ]
  },
  {
   "cell_type": "markdown",
   "id": "cdf3d221",
   "metadata": {},
   "source": [
    "##### Cross-Validation:"
   ]
  },
  {
   "cell_type": "markdown",
   "id": "2d06c893",
   "metadata": {},
   "source": [
    "## Hyperparameter Tuning"
   ]
  },
  {
   "cell_type": "markdown",
   "id": "fb279c0b",
   "metadata": {},
   "source": [
    "##### Tuning with GridSearchCV"
   ]
  },
  {
   "cell_type": "markdown",
   "id": "616d398e",
   "metadata": {},
   "source": [
    "## Evaluation"
   ]
  },
  {
   "cell_type": "markdown",
   "id": "190e8ad8",
   "metadata": {},
   "source": [
    "##### Validation Set Evaluation\n"
   ]
  },
  {
   "cell_type": "markdown",
   "id": "456c6ce4",
   "metadata": {},
   "source": [
    "##### Test Set Evaluation\n"
   ]
  },
  {
   "cell_type": "markdown",
   "id": "4ce99c94",
   "metadata": {},
   "source": [
    "## Interpretation and Next Steps"
   ]
  }
 ],
 "metadata": {
  "kernelspec": {
   "display_name": "kaggle_env",
   "language": "python",
   "name": "python3"
  },
  "language_info": {
   "codemirror_mode": {
    "name": "ipython",
    "version": 3
   },
   "file_extension": ".py",
   "mimetype": "text/x-python",
   "name": "python",
   "nbconvert_exporter": "python",
   "pygments_lexer": "ipython3",
   "version": "3.9.19"
  }
 },
 "nbformat": 4,
 "nbformat_minor": 5
}
